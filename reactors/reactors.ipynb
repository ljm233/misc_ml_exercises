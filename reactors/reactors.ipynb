{
 "cells": [
  {
   "cell_type": "markdown",
   "metadata": {},
   "source": [
    "Nuclear Reactors in the US"
   ]
  },
  {
   "cell_type": "code",
   "execution_count": 445,
   "metadata": {},
   "outputs": [],
   "source": [
    "import pandas as pd\n",
    "import numpy as np\n",
    "import matplotlib.pyplot as plt\n",
    "\n",
    "from sklearn.svm import SVR\n",
    "from sklearn.preprocessing import StandardScaler"
   ]
  },
  {
   "cell_type": "code",
   "execution_count": 509,
   "metadata": {
    "scrolled": true
   },
   "outputs": [
    {
     "name": "stdout",
     "output_type": "stream",
     "text": [
      "(96, 52)\n"
     ]
    }
   ],
   "source": [
    "### data preparation ###\n",
    "data = pd.read_csv('./reactors-operating.csv', encoding='ISO-8859-1')\n",
    "\n",
    "# strip percentage signs from capacity factor columns\n",
    "capacity_factor_keys = ['2018 Capacity Factor(Percent)',\n",
    "       '2017 Capacity Factor(Percent)', '2016 Capacity Factor(Percent)',\n",
    "       '2015 Capacity Factor (Percent)', '2014 Capacity Factor (Percent)',\n",
    "       '2013 Capacity Factor (Percent)', '2012 Capacity Factor (Percent)',\n",
    "       '2011 Capacity Factor (Percent)', '2010 Capacity Factor (Percent)',\n",
    "       '2009 Capacity Factor (Percent)', '2008 Capacity Factor (Percent)'\n",
    "]\n",
    "data[capacity_factor_keys] = data[capacity_factor_keys].apply(lambda x: x.str.strip('%'))\n",
    "\n",
    "# create categorical fields for discrete fields\n",
    "dummy_columns = ['NRC Region', 'Reactor and Containment Type ', 'Nuclear Steam System Supplier and Design Type ', 'Constructor ']\n",
    "dummies = pd.get_dummies(data[dummy_columns], columns=dummy_columns)\n",
    "\n",
    "# take all useful features by combining dummies and capacities\n",
    "capacity_factor_keys.reverse() # reversing puts column keys in chronological order\n",
    "x = pd.concat([dummies, data[capacity_factor_keys]], axis=1) \n",
    "\n",
    "# remove any exmaples with a n/a value\n",
    "x = x.dropna()\n",
    "x = x.reset_index(drop=True)\n",
    "print(x.shape)\n",
    "\n",
    "# convert columns from strings to floats\n",
    "x = x.astype(np.float64)\n",
    "\n",
    "# scale capacities so percentage is represented btwn 0 and 1\n",
    "x[capacity_factor_keys] = x[capacity_factor_keys].apply(lambda x: x / 100)\n",
    "\n",
    "# take y as latest capacity reading\n",
    "y = x.pop('2018 Capacity Factor(Percent)').to_frame().values.flatten()\n",
    "\n",
    "# create scalers and scale x and y\n",
    "sc_x = StandardScaler()\n",
    "sc_y = StandardScaler()\n",
    "x_cap_keys = [k for k in capacity_factor_keys if k != '2018 Capacity Factor(Percent)'] # capacity keys - y key\n",
    "x[x_cap_keys] = sc_x.fit_transform(x[x_cap_keys])\n"
   ]
  },
  {
   "cell_type": "code",
   "execution_count": 510,
   "metadata": {},
   "outputs": [
    {
     "name": "stdout",
     "output_type": "stream",
     "text": [
      "mean error (%): 5.313\n"
     ]
    },
    {
     "name": "stderr",
     "output_type": "stream",
     "text": [
      "/home/lawrence/anaconda3/lib/python3.7/site-packages/sklearn/svm/base.py:193: FutureWarning: The default value of gamma will change from 'auto' to 'scale' in version 0.22 to account better for unscaled features. Set gamma explicitly to 'auto' or 'scale' to avoid this warning.\n",
      "  \"avoid this warning.\", FutureWarning)\n"
     ]
    }
   ],
   "source": [
    "### SVR model fitting ###\n",
    "\n",
    "# create and fit\n",
    "clf = SVR()\n",
    "clf.fit(x,y)\n",
    "\n",
    "# evaluate\n",
    "p = clf.predict(x)\n",
    "performance = np.mean(np.abs(p - y)) # mean value of the differences between predicted and actual\n",
    "print('mean error (%):', round(performance*100, 3))"
   ]
  },
  {
   "cell_type": "code",
   "execution_count": 511,
   "metadata": {},
   "outputs": [],
   "source": [
    "### Predicting future output ###\n",
    "\n",
    "x = x.values # convert dataframe to np array\n",
    "future = [] # to store future predictions\n",
    "years = 5 # no. years ahead to predict\n",
    "for i in range(5): # predict for next 5 years\n",
    "    \n",
    "    # reverse the scaling operation on scaled features in prev x (last 10 columns)\n",
    "    x[:,-10:] = sc_x.inverse_transform(x[:, -10:])\n",
    "    \n",
    "    # capacity fields effectively shuffled back one year, appending the predictions as the latest\n",
    "    # and discarding of the earliest year\n",
    "    x[:, -10:] = np.concatenate( (x[:,-9:], y[:, np.newaxis]), axis=1)\n",
    "    \n",
    "    # rescale the capacity fields\n",
    "    x[:, -10:] = sc_x.transform(x[:, -10:])\n",
    "    \n",
    "    # predict for the next year, and store average of capacity factor outputs\n",
    "    p = clf.predict(x)\n",
    "    future.append(p)\n",
    "    \n",
    "\n"
   ]
  },
  {
   "cell_type": "code",
   "execution_count": 513,
   "metadata": {},
   "outputs": [
    {
     "data": {
      "image/png": "[encoded data removed]",
      "text/plain": [
       "<Figure size 432x288 with 1 Axes>"
      ]
     },
     "metadata": {
      "needs_background": "light"
     },
     "output_type": "display_data"
    }
   ],
   "source": [
    "### Plot graphs showing past and future trends ###\n",
    "\n",
    "# grab past data (2008 - 2018)\n",
    "pdata = data[capacity_factor_keys].dropna()\n",
    "past = []\n",
    "for key in capacity_factor_keys:\n",
    "    past.append(pdata[key].values.astype(float))\n",
    "    \n",
    "# create x values\n",
    "x_past = list(range(2007, 2018))\n",
    "x_future = list(range(2017, 2018+years)) # inst x axis large enough to match predictions + 1\n",
    "\n",
    "# create graph\n",
    "fig, ax = plt.subplots()\n",
    "\n",
    "# insert a series\n",
    "for i, n in enumerate(pdata.index[:1]):\n",
    "    y_past = [e[i] for e in past]\n",
    "    ax.plot(x_past, y_past, label=data.at[i, 'NRC Reactor Unit Web Page '])\n",
    "    \n",
    "    y_future = [e[i] * 100 for e in future]\n",
    "    ax.plot(x_future, y_past[-1:]+y_future)"
   ]
  }
 ],
 "metadata": {
  "kernelspec": {
   "display_name": "Python 3",
   "language": "python",
   "name": "python3"
  },
  "language_info": {
   "codemirror_mode": {
    "name": "ipython",
    "version": 3
   },
   "file_extension": ".py",
   "mimetype": "text/x-python",
   "name": "python",
   "nbconvert_exporter": "python",
   "pygments_lexer": "ipython3",
   "version": "3.7.4"
  }
 },
 "nbformat": 4,
 "nbformat_minor": 2
}

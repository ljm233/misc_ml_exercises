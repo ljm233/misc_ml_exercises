{
 "cells": [
  {
   "cell_type": "markdown",
   "metadata": {},
   "source": [
    "Classifying sounds using deep learning."
   ]
  },
  {
   "cell_type": "code",
   "execution_count": 4,
   "metadata": {
    "_cell_guid": "b1076dfc-b9ad-4769-8c92-a6c4dae69d19",
    "_uuid": "8f2839f25d086af736a60e9eeb907d3b93b6e0e5"
   },
   "outputs": [
    {
     "name": "stderr",
     "output_type": "stream",
     "text": [
      "Using TensorFlow backend.\n"
     ]
    }
   ],
   "source": [
    "import numpy as np\n",
    "import pandas as pd\n",
    "\n",
    "from keras.utils import to_categorical\n",
    "from keras.models import Sequential\n",
    "from keras.layers import Dense, Dropout\n",
    "\n",
    "import os"
   ]
  },
  {
   "cell_type": "code",
   "execution_count": 5,
   "metadata": {},
   "outputs": [],
   "source": [
    "from collections import Counter"
   ]
  },
  {
   "cell_type": "code",
   "execution_count": 9,
   "metadata": {
    "_cell_guid": "",
    "_uuid": ""
   },
   "outputs": [
    {
     "name": "stdout",
     "output_type": "stream",
     "text": [
      "class: label\n",
      "Hello : 0\n",
      "Goodbye : 1\n",
      "Banana : 2\n",
      "Chair : 3\n",
      "IceCream : 4\n"
     ]
    }
   ],
   "source": [
    "# import data - csv containing spectral analysis features extracted from different sounds from a range of classes.\n",
    "train = pd.read_csv(\"./Audio/data_model_nn.csv\")\n",
    "test = pd.read_csv(\"./Audio/validation_nn.csv\")\n",
    "\n",
    "\n",
    "print('class: label')\n",
    "def create_matching(labels):\n",
    "    \"\"\"Creates and returns a dict, containing matching between labels and ints.\n",
    "    For representing class label strings as integers.\"\"\"\n",
    "    c = Counter(labels)\n",
    "    d = {}\n",
    "    for i, k in enumerate(c.keys()):\n",
    "        print(k, ':', i)\n",
    "        d[k] = i\n",
    "    return d\n",
    "\n",
    "# split into x and y\n",
    "X = train[[\"meanfreq\", \"sd\", \n",
    "\t\t\t\"freq.median\", \"freq.Q25\", \"freq.Q75\", \"freq.IQR\", \n",
    "\t\t\t\"time.median\", \"time.Q25\", \"time.Q75\", \"time.IQR\", \n",
    "\t\t\t\"skew\", \"kurt\", \"sp.ent\", \"time.ent\", \"entropy\", \"sfm\", \n",
    "\t\t\t\"meandom\", \"mindom\", \"maxdom\", \"dfrange\", \"modindx\", \n",
    "\t\t\t\"startdom\", \"enddom\", \"dfslope\", \"meanpeakf\"\n",
    "]]\n",
    "y = train['class']\n",
    "\n",
    "matching = create_matching(y) # create matching between label strings and integers\n",
    "y = [matching[lbl] for lbl in y] # convert y to ints\n",
    "y = to_categorical(y, num_classes=5) # convert to one hot.\n",
    "\n",
    "# do same for test\n",
    "X_test = test[[\"meanfreq\", \"sd\", \n",
    "\t\t\t\"freq.median\", \"freq.Q25\", \"freq.Q75\", \"freq.IQR\", \n",
    "\t\t\t\"time.median\", \"time.Q25\", \"time.Q75\", \"time.IQR\", \n",
    "\t\t\t\"skew\", \"kurt\", \"sp.ent\", \"time.ent\", \"entropy\", \"sfm\", \n",
    "\t\t\t\"meandom\", \"mindom\", \"maxdom\", \"dfrange\", \"modindx\", \n",
    "\t\t\t\"startdom\", \"enddom\", \"dfslope\", \"meanpeakf\"\n",
    "]]\n",
    "y_test = test['class']\n",
    "y_test = [d[l] for l in y_test] # y_test to ints\n",
    "y_test = to_categorical(y_test, num_classes=5) # one hot"
   ]
  },
  {
   "cell_type": "code",
   "execution_count": 7,
   "metadata": {},
   "outputs": [
    {
     "name": "stdout",
     "output_type": "stream",
     "text": [
      "<keras.engine.sequential.Sequential object at 0x7f39b2cf0bd0>\n",
      "19/19 [==============================] - 0s 15ms/step\n"
     ]
    },
    {
     "data": {
      "text/plain": [
       "[0.06060293243315659, 0.8421052694320679]"
      ]
     },
     "execution_count": 7,
     "metadata": {},
     "output_type": "execute_result"
    }
   ],
   "source": [
    "# define and compile model\n",
    "\n",
    "dropout_rate= 0.05\n",
    "activ = 'sigmoid'\n",
    "\n",
    "model = Sequential()\n",
    "model.add(Dense(164, activation=activ, input_dim=25))\n",
    "model.add(Dropout(dropout_rate))\n",
    "model.add(Dense(164, activation=activ))\n",
    "model.add(Dropout(dropout_rate))\n",
    "model.add(Dense(40, activation=activ))\n",
    "model.add(Dropout(dropout_rate))\n",
    "model.add(Dense(5, activation='softmax'))\n",
    "model.compile(\toptimizer='adam',\n",
    "\t\t\t \tloss='mse',\n",
    "\t\t\t \tmetrics=['accuracy']\n",
    "\t\t\t )\n",
    "print(model)\n",
    "\n",
    "model.fit(X, y, epochs=100, batch_size=4, verbose=0)\n",
    "model.evaluate(X_test, y_test, batch_size=8)"
   ]
  },
  {
   "cell_type": "code",
   "execution_count": null,
   "metadata": {},
   "outputs": [],
   "source": []
  }
 ],
 "metadata": {
  "kernelspec": {
   "display_name": "Python 3",
   "language": "python",
   "name": "python3"
  },
  "language_info": {
   "codemirror_mode": {
    "name": "ipython",
    "version": 3
   },
   "file_extension": ".py",
   "mimetype": "text/x-python",
   "name": "python",
   "nbconvert_exporter": "python",
   "pygments_lexer": "ipython3",
   "version": "3.7.4"
  }
 },
 "nbformat": 4,
 "nbformat_minor": 1
}
